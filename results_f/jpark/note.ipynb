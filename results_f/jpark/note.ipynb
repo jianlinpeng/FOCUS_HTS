{
 "cells": [
  {
   "cell_type": "code",
   "execution_count": null,
   "metadata": {},
   "outputs": [],
   "source": [
    "# jark, 磁面128*32, ns=128\n",
    "# j0 : n=100, lr=1e-6\n",
    "# j1 : scipy BFGS \n",
    "'''        \"weight_bnormal\": 1,\n",
    "    \"weight_length\": 1e-06,\n",
    "    \"weight_curvature\": 0.01,\n",
    "    \"weight_curvature_max\": 0.005,\n",
    "    \"weight_torsion\": 0.01,\n",
    "    \"weight_torsion_max\": 0.002,\n",
    "    \"weight_distance_coil_coil\": 1e-06,\n",
    "    \"weight_distance_coil_surface\": 1e-06,\n",
    "    \"weight_strain\": 0.01,'''\n",
    "\n",
    "# j2 : scipy CG\n",
    "\n",
    "# j3 : j0+BFGS\n",
    "\n",
    "# j4 : j3+for500\n",
    "\n",
    "# j10 : n=20000"
   ]
  }
 ],
 "metadata": {
  "kernelspec": {
   "display_name": "Python 3.8.10 64-bit",
   "language": "python",
   "name": "python3"
  },
  "language_info": {
   "name": "python",
   "version": "3.8.10"
  },
  "orig_nbformat": 4,
  "vscode": {
   "interpreter": {
    "hash": "916dbcbb3f70747c44a77c7bcd40155683ae19c65e1c03b4aa3499c5328201f1"
   }
  }
 },
 "nbformat": 4,
 "nbformat_minor": 2
}
