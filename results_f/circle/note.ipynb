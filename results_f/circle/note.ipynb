{
 "cells": [
  {
   "cell_type": "code",
   "execution_count": null,
   "metadata": {},
   "outputs": [],
   "source": [
    "# a1 : wb=1, ss=0\n",
    "# a2 : wb=1, ss=1\n",
    "# a3 : wb=1, wl=2, wc=5, ss=1\n",
    "# a4 : wb=1, wl=2, wc=5, ss=0\n",
    "# a5 : wb=1, wl=2, wc=5, ss=0, nnr=nbr=2\n",
    "# a6 : wb=1, wl=2, wc=5, ss=1, nnr=nbr=2\n",
    "# a7 : wb=1, wl=2, wc=5, wcm=1, ss=1"
   ]
  },
  {
   "cell_type": "code",
   "execution_count": null,
   "metadata": {},
   "outputs": [],
   "source": [
    "# a00 : w7x_coil_50\n",
    "# a0 : w7x_coil, ss=1, nfp=5"
   ]
  },
  {
   "cell_type": "code",
   "execution_count": null,
   "metadata": {},
   "outputs": [],
   "source": [
    "# n = 1000, lr = 1e-5 , ss=1  \n",
    "# loss : wb=1, wl=2, wc=5, wcm=1,   \n",
    "\n",
    "# b : wb=1, wl=3, 改变wc=[2.5, 15, 2.5], wcm=1,    \n",
    "# b5排除 \n",
    "# c : wb=1, wl=3, wc=7.5, 改变wcm=[1, 5, 1],     \n",
    "\n",
    "# d : wb=1, 改变wl=[1, 5, 1], wc=5, wcm=1, "
   ]
  },
  {
   "cell_type": "code",
   "execution_count": null,
   "metadata": {},
   "outputs": [],
   "source": [
    "# n = 2000, lr = 5e-6 , ss=1  \n",
    "# e1 : wb=1, wl=2, wc=12.5, wcm=4"
   ]
  }
 ],
 "metadata": {
  "kernelspec": {
   "display_name": "Python 3.8.10 64-bit",
   "language": "python",
   "name": "python3"
  },
  "language_info": {
   "name": "python",
   "version": "3.8.10"
  },
  "orig_nbformat": 4,
  "vscode": {
   "interpreter": {
    "hash": "916dbcbb3f70747c44a77c7bcd40155683ae19c65e1c03b4aa3499c5328201f1"
   }
  }
 },
 "nbformat": 4,
 "nbformat_minor": 2
}
