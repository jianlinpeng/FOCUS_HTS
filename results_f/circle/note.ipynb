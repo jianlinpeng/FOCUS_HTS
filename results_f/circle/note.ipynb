{
 "cells": [
  {
   "cell_type": "code",
   "execution_count": null,
   "metadata": {},
   "outputs": [],
   "source": [
    "# a00 : w7x_coil_50\n",
    "# a0 : w7x_coil, ss=1, nfp=5"
   ]
  },
  {
   "cell_type": "code",
   "execution_count": null,
   "metadata": {},
   "outputs": [],
   "source": [
    "# a1 : wb=1, n=1000, lr=1e-5, ss=1\n",
    "# a2 : wb=1, wl=0.01, wc=0.05, wcm=0.01,wt=0.05,wtm=0.01\n",
    "#       n=1000, lr=2.5e-5, ss=1"
   ]
  },
  {
   "cell_type": "code",
   "execution_count": null,
   "metadata": {},
   "outputs": [],
   "source": [
    "# 需要再算的：\n",
    "\n",
    "# b2 : wb=1, wl=0.01, wc=0.04, wcm=0.01, wt=0.16, wtm=0.01;\n",
    "#    n = 2000, opt=mom, lr = 1e-5, ss=1, nnr=nbr=2\n",
    "# b2算崩了，重来\n",
    "# r2 : wb=1, wl=0.01, wc=0.04, wcm=0.01, wt=0.16, wtm=0.01; \n",
    "#       n=2000, opt=mom, lr=1e-5, lrfr=1e-5, ss=1, \n",
    "#       nnr=nbr=2, nr=0, nfr=6\n",
    "# 画三维图比较加了旋转角的结果\n",
    "# nfr的影响,取r2的参数\n",
    "\n",
    "# m2 : wb=1, wl=0.01, wc=0.04, wcm=0.01, wt=0.16, wtm=0.01;\n",
    "#    n = 2000, opt=momentum, lr = 1e-5, ss=1, nnr=nbr=1\n",
    "# ad2 : wb=1, wl=0.01, wc=0.04, wcm=0.01, wt=0.16, wtm=0.01;\n",
    "#    n = 2000, opt=adam, lr = 1e-5, ss=1, nnr=nbr=1\n",
    "# ad3 : wb=1, n=1000, lr=1e-3\n",
    "\n",
    "# 比较m2和ad2的loss曲线。这两个有参数没调对\n",
    "\n",
    "# 或者扫描一下lr的值在收敛时的取值范围。也算崩了，调整位置。\n",
    "# 此时只取wb=1,ss=1,n=1000,lr=[1e-5,1e-4,10], \n",
    "# lrm : opt=mom, ; lra : opt=adam"
   ]
  },
  {
   "cell_type": "markdown",
   "metadata": {},
   "source": [
    "先复现focusadd的结果，然后做应变量的测试。  \n",
    "focusadd : 有限截面和曲线近似的对比，误差量。  \n",
    "应变量 ： 沿着线圈的应变分布，垂直磁场量的计算。"
   ]
  }
 ],
 "metadata": {
  "kernelspec": {
   "display_name": "Python 3.8.10 64-bit",
   "language": "python",
   "name": "python3"
  },
  "language_info": {
   "name": "python",
   "version": "3.8.10"
  },
  "orig_nbformat": 4,
  "vscode": {
   "interpreter": {
    "hash": "916dbcbb3f70747c44a77c7bcd40155683ae19c65e1c03b4aa3499c5328201f1"
   }
  }
 },
 "nbformat": 4,
 "nbformat_minor": 2
}
