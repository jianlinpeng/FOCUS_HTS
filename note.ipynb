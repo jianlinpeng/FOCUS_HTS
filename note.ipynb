{
 "cells": [
  {
   "cell_type": "markdown",
   "metadata": {},
   "source": [
    "若有需要可添加：  \n",
    "4. 读取磁轴文件  "
   ]
  },
  {
   "cell_type": "markdown",
   "metadata": {},
   "source": [
    "考虑到分辨率对精度的影响，ns建议大于32  \n",
    "由于简化版的bspline参数计算，输入的线圈坐标分辨率也应为ns+1，包含一个首尾重合点"
   ]
  },
  {
   "cell_type": "markdown",
   "metadata": {},
   "source": [
    "torsion需要的三阶导数，三阶bspline为C2连续，无法计算  \n",
    "HTS材料的受力如何计算"
   ]
  },
  {
   "cell_type": "markdown",
   "metadata": {},
   "source": [
    "self_B 仍然有问题"
   ]
  },
  {
   "cell_type": "markdown",
   "metadata": {},
   "source": [
    "Bspline表达闭合曲线，需要将控制点重复3个，但是重复项不计入优化参数，在程序内部转为完整控制点序列计算"
   ]
  },
  {
   "cell_type": "markdown",
   "metadata": {},
   "source": [
    "minimize需要把优化参数压到一维输入，nfr不能等于0，或者加上判断，"
   ]
  },
  {
   "cell_type": "markdown",
   "metadata": {},
   "source": [
    "每个独立线圈的有限截面受超导临界电流影响，因此都不相同   \n",
    "只在线圈电流优化时考虑, 默认不优化电流时个线圈电流相等"
   ]
  },
  {
   "cell_type": "markdown",
   "metadata": {},
   "source": [
    "需要if判断的地方\n",
    "1.HTS材料\n",
    "2.是否有限截面\n",
    "3.是否每个线圈截面独立计算\n",
    "3.spline和fourier"
   ]
  },
  {
   "cell_type": "markdown",
   "metadata": {},
   "source": [
    "1. 把loss的coil传入改了  \n",
    "2. 修复庞加莱图的计算问题"
   ]
  },
  {
   "cell_type": "markdown",
   "metadata": {},
   "source": [
    "if太多怎么办"
   ]
  },
  {
   "cell_type": "markdown",
   "metadata": {},
   "source": [
    "self_B的binormal事是frenet坐标的，  \n",
    "top = np.cross(der1, der2)  \n",
    "binormal = top / np.linalg.norm(top, axis = -1)[:, :, np.newaxis]"
   ]
  },
  {
   "cell_type": "code",
   "execution_count": null,
   "metadata": {},
   "outputs": [],
   "source": [
    "# from coilpy import vmec2focus\n",
    "# vmec2focus(' initfiles/ncsx_c09r00/wout_c09r00_fb.nc', \n",
    "#         focus_file=' initfiles/ncsx_c09r00/c09r00.boundary', \n",
    "#         bnorm_file=' initfiles/ncsx_c09r00/bnorm.c09r00_fb')"
   ]
  },
  {
   "cell_type": "markdown",
   "metadata": {},
   "source": [
    "为何spline收敛慢，因为离散点之间的冲突吗"
   ]
  },
  {
   "cell_type": "markdown",
   "metadata": {},
   "source": [
    "为什么前后的w7x应变不同，应该是前后的计算代码不同，但不知道具体哪里\n",
    "线圈与磁面间距也变了"
   ]
  },
  {
   "cell_type": "markdown",
   "metadata": {},
   "source": [
    "hsx线圈曲率挠率太大，在优化中很容易因为挠迅速增加影响结果，从圆形开始应该减小挠率权重。"
   ]
  }
 ],
 "metadata": {
  "kernelspec": {
   "display_name": "Python 3.8.10 64-bit",
   "language": "python",
   "name": "python3"
  },
  "language_info": {
   "codemirror_mode": {
    "name": "ipython",
    "version": 3
   },
   "file_extension": ".py",
   "mimetype": "text/x-python",
   "name": "python",
   "nbconvert_exporter": "python",
   "pygments_lexer": "ipython3",
   "version": "3.8.10"
  },
  "orig_nbformat": 4,
  "vscode": {
   "interpreter": {
    "hash": "916dbcbb3f70747c44a77c7bcd40155683ae19c65e1c03b4aa3499c5328201f1"
   }
  }
 },
 "nbformat": 4,
 "nbformat_minor": 2
}
