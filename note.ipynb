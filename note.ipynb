{
 "cells": [
  {
   "cell_type": "markdown",
   "metadata": {},
   "source": [
    "先不管lhd和saddle"
   ]
  },
  {
   "cell_type": "markdown",
   "metadata": {},
   "source": [
    "Bmax\t2.04940428\n",
    "Bn,\t    0.046049344\n",
    "length,\t8.459258107\n",
    "k_mean,\t1.173399506\n",
    "dcc,\t0.239613023\n",
    "dcs,\t0.406515153\n",
    "k_max,\t2.367535599\n",
    "t_mean\t1.395242148\n",
    "t_max\t12.57797961\n"
   ]
  },
  {
   "cell_type": "markdown",
   "metadata": {},
   "source": [
    "考虑到分辨率对精度的影响，ns建议大于32  \n",
    "由于简化版的bspline参数计算，输入的线圈坐标分辨率也应为ns+1，包含一个首尾重合点"
   ]
  },
  {
   "cell_type": "markdown",
   "metadata": {},
   "source": [
    "torsion需要的三阶导数，三阶bspline为C2连续，无法计算  \n",
    "dcc（np.min & np.max）是否能加入迭代， 需要再探究  \n",
    "HTS材料的受力如何计算"
   ]
  },
  {
   "cell_type": "markdown",
   "metadata": {},
   "source": [
    "仿星器对称，需要把坐标对称和导数对称区分开，导数对称多了一个负号。  \n",
    "lossfunction里面只有算磁场需要所有线圈，其他所有量都可以用半周期替代，无需经过仿星器对称。"
   ]
  },
  {
   "cell_type": "markdown",
   "metadata": {},
   "source": [
    "dcc和dcs的具体计算方法，从focus里找找"
   ]
  },
  {
   "cell_type": "markdown",
   "metadata": {},
   "source": [
    "接下来两件事：  \n",
    "材料应变，扭转，弯曲  \n",
    "添加alpha角优化"
   ]
  },
  {
   "cell_type": "markdown",
   "metadata": {},
   "source": [
    "保留r_centroid，用于计算loss，还是其他loss也用截面"
   ]
  },
  {
   "cell_type": "markdown",
   "metadata": {},
   "source": [
    "Bspline误差原因：节点t不均等，在简化计算式中出现误差"
   ]
  },
  {
   "cell_type": "markdown",
   "metadata": {},
   "source": [
    "将args保存到hdf5中，随线圈参数读取\n",
    "lossfunction长度项改一下"
   ]
  }
 ],
 "metadata": {
  "kernelspec": {
   "display_name": "Python 3.8.10 64-bit",
   "language": "python",
   "name": "python3"
  },
  "language_info": {
   "codemirror_mode": {
    "name": "ipython",
    "version": 3
   },
   "file_extension": ".py",
   "mimetype": "text/x-python",
   "name": "python",
   "nbconvert_exporter": "python",
   "pygments_lexer": "ipython3",
   "version": "3.8.10"
  },
  "orig_nbformat": 4,
  "vscode": {
   "interpreter": {
    "hash": "916dbcbb3f70747c44a77c7bcd40155683ae19c65e1c03b4aa3499c5328201f1"
   }
  }
 },
 "nbformat": 4,
 "nbformat_minor": 2
}
