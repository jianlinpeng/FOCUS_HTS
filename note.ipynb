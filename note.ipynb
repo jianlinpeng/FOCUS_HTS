{
 "cells": [
  {
   "cell_type": "markdown",
   "metadata": {},
   "source": [
    "先不管lhd和saddle"
   ]
  },
  {
   "cell_type": "code",
   "execution_count": null,
   "metadata": {},
   "outputs": [],
   "source": [
    "\n",
    "#main\n",
    "def get_surface_data(args):           # surface data的获取\n",
    "    # if args.axis.lower() == \"w7x\":\n",
    "    assert args['nz'] == 150\n",
    "    assert args['nt'] == 20\n",
    "    assert args['nc'] == 50\n",
    "    # need to assert that axis has right number of points\n",
    "    r = np.load(\"/home/nxy/codes/FOCUSADD_B/focusadd/initFiles/w7x/w7x_highres_r_surf.npy\")\n",
    "    nn = np.load(\"/home/nxy/codes/FOCUSADD_B/focusadd/initFiles/w7x/w7x_highres_nn_surf.npy\")\n",
    "    sg = np.load(\"/home/nxy/codes/FOCUSADD_B/focusadd/initFiles/w7x/w7x_highres_sg_surf.npy\")\n",
    "    surface_data = (r, nn, sg)\n",
    "        \n",
    "    return surface_data\n"
   ]
  },
  {
   "cell_type": "markdown",
   "metadata": {},
   "source": [
    "stellarator symmetry  \n",
    "python convention  "
   ]
  },
  {
   "cell_type": "markdown",
   "metadata": {},
   "source": [
    "a0: w7x的线圈的参数\n",
    "loss: 0.7176025364984492 ， 8.460576355963894 ， 1.6837293565178382 ， 1.1532488825105363 ， 0.23997579879057224 ， 0.4017795033758315 ， 15.265314800648186 ， 35.02113472551494"
   ]
  },
  {
   "cell_type": "markdown",
   "metadata": {},
   "source": [
    "考虑到分辨率对精度的影响，ns建议大于32  \n",
    "由于简化版的bspline参数计算，输入的线圈坐标分辨率也应为ns+1，包含一个首尾重合点"
   ]
  },
  {
   "cell_type": "markdown",
   "metadata": {},
   "source": [
    "torsion需要的三阶导数，三阶bspline为C2连续，无法计算  \n",
    "dcc（np.min & np.max）是否能加入迭代， 需要再探究  \n",
    "HTS材料的受力如何计算"
   ]
  },
  {
   "cell_type": "markdown",
   "metadata": {},
   "source": [
    "现在的问题是，bspline的表达式影响了迭代，参数c作为控制点，对整个线圈的权重不同，造成了（只有相关性）c的导数的畸形分布，导致线圈迭代过程中的变化集中，只在首尾和中间变化大，在其他部分变化极小，近似初始圆。"
   ]
  }
 ],
 "metadata": {
  "kernelspec": {
   "display_name": "Python 3.8.10 64-bit",
   "language": "python",
   "name": "python3"
  },
  "language_info": {
   "codemirror_mode": {
    "name": "ipython",
    "version": 3
   },
   "file_extension": ".py",
   "mimetype": "text/x-python",
   "name": "python",
   "nbconvert_exporter": "python",
   "pygments_lexer": "ipython3",
   "version": "3.8.10"
  },
  "orig_nbformat": 4,
  "vscode": {
   "interpreter": {
    "hash": "916dbcbb3f70747c44a77c7bcd40155683ae19c65e1c03b4aa3499c5328201f1"
   }
  }
 },
 "nbformat": 4,
 "nbformat_minor": 2
}
