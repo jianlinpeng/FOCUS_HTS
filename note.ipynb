{
 "cells": [
  {
   "cell_type": "markdown",
   "metadata": {},
   "source": [
    "先不管lhd和saddle"
   ]
  },
  {
   "cell_type": "code",
   "execution_count": null,
   "metadata": {},
   "outputs": [],
   "source": [
    "\n",
    "#main\n",
    "def get_surface_data(args):           # surface data的获取\n",
    "    # if args.axis.lower() == \"w7x\":\n",
    "    assert args['nz'] == 150\n",
    "    assert args['nt'] == 20\n",
    "    assert args['nc'] == 50\n",
    "    # need to assert that axis has right number of points\n",
    "    r = np.load(\"/home/nxy/codes/FOCUSADD_B/focusadd/initFiles/w7x/w7x_highres_r_surf.npy\")\n",
    "    nn = np.load(\"/home/nxy/codes/FOCUSADD_B/focusadd/initFiles/w7x/w7x_highres_nn_surf.npy\")\n",
    "    sg = np.load(\"/home/nxy/codes/FOCUSADD_B/focusadd/initFiles/w7x/w7x_highres_sg_surf.npy\")\n",
    "    surface_data = (r, nn, sg)\n",
    "        \n",
    "    return surface_data\n"
   ]
  },
  {
   "cell_type": "markdown",
   "metadata": {},
   "source": [
    "对称性完成，仿星器对称，有必要吗"
   ]
  },
  {
   "cell_type": "markdown",
   "metadata": {},
   "source": [
    "makegrid, json和hdf5格式的写入和读取测试  \n",
    "json输入，完成\n",
    "makegrid读写完成，  \n",
    "hdf5写入完成"
   ]
  },
  {
   "cell_type": "code",
   "execution_count": null,
   "metadata": {},
   "outputs": [],
   "source": []
  }
 ],
 "metadata": {
  "kernelspec": {
   "display_name": "Python 3.8.10 64-bit",
   "language": "python",
   "name": "python3"
  },
  "language_info": {
   "name": "python",
   "version": "3.8.10"
  },
  "orig_nbformat": 4,
  "vscode": {
   "interpreter": {
    "hash": "916dbcbb3f70747c44a77c7bcd40155683ae19c65e1c03b4aa3499c5328201f1"
   }
  }
 },
 "nbformat": 4,
 "nbformat_minor": 2
}
