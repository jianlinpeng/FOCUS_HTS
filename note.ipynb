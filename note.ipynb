{
 "cells": [
  {
   "cell_type": "markdown",
   "metadata": {},
   "source": [
    "先不管lhd和saddle"
   ]
  },
  {
   "cell_type": "code",
   "execution_count": null,
   "metadata": {},
   "outputs": [],
   "source": [
    "\n",
    "#main\n",
    "def get_surface_data(args):           # surface data的获取\n",
    "    # if args.axis.lower() == \"w7x\":\n",
    "    assert args['nz'] == 150\n",
    "    assert args['nt'] == 20\n",
    "    assert args['nc'] == 50\n",
    "    # need to assert that axis has right number of points\n",
    "    r = np.load(\"/home/nxy/codes/FOCUSADD_B/focusadd/initFiles/w7x/w7x_highres_r_surf.npy\")\n",
    "    nn = np.load(\"/home/nxy/codes/FOCUSADD_B/focusadd/initFiles/w7x/w7x_highres_nn_surf.npy\")\n",
    "    sg = np.load(\"/home/nxy/codes/FOCUSADD_B/focusadd/initFiles/w7x/w7x_highres_sg_surf.npy\")\n",
    "    surface_data = (r, nn, sg)\n",
    "        \n",
    "    return surface_data\n"
   ]
  },
  {
   "cell_type": "markdown",
   "metadata": {},
   "source": [
    "stellarator symmetry  \n",
    "python convention  "
   ]
  },
  {
   "cell_type": "markdown",
   "metadata": {},
   "source": [
    "算磁场，fs和coil，是否匹配   \n",
    "单根线圈开始  \n",
    "把磁场计算拆开，一个线圈对一个点，再加上，看看误差如何  \n",
    "误差不在这里，对每一个点都不一样，why?"
   ]
  },
  {
   "cell_type": "markdown",
   "metadata": {},
   "source": [
    "plot.plot_coil：   传入的参数c，不包含重复点，即为ns，主动添加重复后画图；或者只在迭代结束后画图时，将参数c转为闭合  \n",
    "plot.poincare :    用到了splev，后续调整一下ns相关的数据"
   ]
  },
  {
   "cell_type": "markdown",
   "metadata": {},
   "source": [
    "# bspline.tcku: 初始不考虑线圈闭合，不计入重合点，ns  ；但是输入线圈需要一个重合点，后续计算不计入  \n",
    "# bspline.close: 添加一个函数，使参数c转为闭合 "
   ]
  },
  {
   "cell_type": "markdown",
   "metadata": {},
   "source": [
    "# lossfunction.length : 由于线圈没有闭合点，计算时要加上最后一段"
   ]
  }
 ],
 "metadata": {
  "kernelspec": {
   "display_name": "Python 3.8.10 64-bit",
   "language": "python",
   "name": "python3"
  },
  "language_info": {
   "codemirror_mode": {
    "name": "ipython",
    "version": 3
   },
   "file_extension": ".py",
   "mimetype": "text/x-python",
   "name": "python",
   "nbconvert_exporter": "python",
   "pygments_lexer": "ipython3",
   "version": "3.8.10"
  },
  "orig_nbformat": 4,
  "vscode": {
   "interpreter": {
    "hash": "916dbcbb3f70747c44a77c7bcd40155683ae19c65e1c03b4aa3499c5328201f1"
   }
  }
 },
 "nbformat": 4,
 "nbformat_minor": 2
}
