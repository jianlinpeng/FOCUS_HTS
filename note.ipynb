{
 "cells": [
  {
   "cell_type": "markdown",
   "metadata": {},
   "source": [
    "先不管lhd和saddle"
   ]
  },
  {
   "cell_type": "code",
   "execution_count": null,
   "metadata": {},
   "outputs": [],
   "source": [
    "\n",
    "#main\n",
    "def get_surface_data(args):           # surface data的获取\n",
    "    # if args.axis.lower() == \"w7x\":\n",
    "    assert args['nz'] == 150\n",
    "    assert args['nt'] == 20\n",
    "    assert args['nc'] == 50\n",
    "    # need to assert that axis has right number of points\n",
    "    r = np.load(\"/home/nxy/codes/FOCUSADD_B/focusadd/initFiles/w7x/w7x_highres_r_surf.npy\")\n",
    "    nn = np.load(\"/home/nxy/codes/FOCUSADD_B/focusadd/initFiles/w7x/w7x_highres_nn_surf.npy\")\n",
    "    sg = np.load(\"/home/nxy/codes/FOCUSADD_B/focusadd/initFiles/w7x/w7x_highres_sg_surf.npy\")\n",
    "    surface_data = (r, nn, sg)\n",
    "        \n",
    "    return surface_data\n"
   ]
  },
  {
   "cell_type": "markdown",
   "metadata": {},
   "source": [
    "输入线圈应为ns（最多ns+1），即没有重复点（自带检测，可去重）\n"
   ]
  },
  {
   "cell_type": "markdown",
   "metadata": {},
   "source": [
    "stellarator symmetry  \n",
    "python convention  "
   ]
  },
  {
   "cell_type": "markdown",
   "metadata": {},
   "source": [
    "仿星器对称能够自发满足，关于对称公式再研究一下\n",
    "\n"
   ]
  },
  {
   "cell_type": "markdown",
   "metadata": {},
   "source": [
    "a1: debug结束 ,只看Bn,\n",
    "\n",
    "a2：加上wl和wc（1, 1.5, 5）,\n",
    "\n",
    "a3: 加上wt,(1, 1, 5, 2), \n",
    "\n",
    "a4: 加上wcm,wtm（1, 1, 5, 0.5, 2, 0.5）\n",
    "\n",
    "a5: （1, 2.5, 5, 0.5, 2, 0.5）\n",
    "\n",
    "a6: (1， 2， 5， 0.2)\n"
   ]
  },
  {
   "cell_type": "markdown",
   "metadata": {},
   "source": [
    "b0~b10, 改变wl(1.5~3.5),其他未变\n",
    "c0~c10, 改变wc(3~7),其他未变\n",
    "d0~d5, 改变wcm(0.02~0.1),"
   ]
  },
  {
   "cell_type": "markdown",
   "metadata": {},
   "source": [
    "a0: w7x的线圈的参数\n",
    "loss: 0.7176025364984492 8.460576355963894 1.6837293565178382 1.1532488825105363 0.23997579879057224 0.4017795033758315 15.265314800648186 35.02113472551494"
   ]
  },
  {
   "cell_type": "markdown",
   "metadata": {},
   "source": [
    "扭转需要绝对值吗，torsion需要的三阶导数，在bspline下是否有问题\n",
    "dcc无法加入迭代\n",
    "HTS材料的受力如何计算"
   ]
  }
 ],
 "metadata": {
  "kernelspec": {
   "display_name": "Python 3.8.10 64-bit",
   "language": "python",
   "name": "python3"
  },
  "language_info": {
   "codemirror_mode": {
    "name": "ipython",
    "version": 3
   },
   "file_extension": ".py",
   "mimetype": "text/x-python",
   "name": "python",
   "nbconvert_exporter": "python",
   "pygments_lexer": "ipython3",
   "version": "3.8.10"
  },
  "orig_nbformat": 4,
  "vscode": {
   "interpreter": {
    "hash": "916dbcbb3f70747c44a77c7bcd40155683ae19c65e1c03b4aa3499c5328201f1"
   }
  }
 },
 "nbformat": 4,
 "nbformat_minor": 2
}
