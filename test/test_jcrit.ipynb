{
 "cells": [
  {
   "cell_type": "code",
   "execution_count": null,
   "metadata": {},
   "outputs": [],
   "source": [
    "\n",
    "import json\n",
    "import jax.numpy as np\n",
    "import plotly.graph_objects as go\n",
    "import sys \n",
    "sys.path.append(' HTS')\n",
    "import material_jcrit\n",
    "pi = np.pi\n",
    "\n",
    "with open('initfiles/init_args.json', 'r') as f:    # 传入地址\n",
    "    args = json.load(f)\n",
    "globals().update(args)\n",
    "\n",
    "\n",
    "def Jcrit_strain(T, B, strain):\n",
    "    if T > 60:\n",
    "        jc,b,t = material_jcrit.get_critical_current(T, B, strain, \"REBCO_HT\")\n",
    "    elif T <= 60:\n",
    "        jc,b,t = material_jcrit.get_critical_current(T, B, strain, \"REBCO_LT\")\n",
    "    return jc\n",
    "\n",
    "\n",
    "def Jcrit_theta(Bx, By):\n",
    "    k2 = 0.2**2\n",
    "    beta = 0.65\n",
    "    jc0 = 3e10\n",
    "    B0 = 0.02\n",
    "    jc = jc0 / (1 + (k2*Bx**2 + By**2)**0.5 / B0) ** beta\n",
    "    return jc\n"
   ]
  },
  {
   "cell_type": "markdown",
   "metadata": {},
   "source": [
    "77K, 各项异性公式与应变公式对比"
   ]
  },
  {
   "cell_type": "code",
   "execution_count": null,
   "metadata": {},
   "outputs": [],
   "source": [
    "js, jtx, jty = np.zeros((10)), np.zeros((10)), np.zeros((10))\n",
    "T = 77\n",
    "strain = 0\n",
    "for i in range(10):\n",
    "    B = i+1e-5\n",
    "    js0 = Jcrit_strain(T, B, 0)\n",
    "    Bx, By = i, 0\n",
    "    jtx0 = Jcrit_theta(Bx, By)\n",
    "    Bx, By = 0, i\n",
    "    jty0 = Jcrit_theta(Bx, By)\n",
    "    js = js.at[i].set(js0)\n",
    "    jtx = jtx.at[i].set(jtx0)\n",
    "    jty = jty.at[i].set(jty0)\n",
    "\n",
    "print(js)\n",
    "print(jtx)\n",
    "print(jty)\n",
    "\n",
    "fig = go.Figure()\n",
    "fig.add_scatter(x = np.arange(0, 10, 1), y = js, \n",
    "                    name = 'jcrit_strain', line = dict(width=5))\n",
    "fig.add_scatter(x = np.arange(0, 10, 1), y = jtx, \n",
    "                    name = 'jcrit_theta_X', line = dict(width=5))\n",
    "fig.add_scatter(x = np.arange(0, 10, 1), y = jty, \n",
    "                    name = 'jcrit_theta_y', line = dict(width=5))\n",
    "fig.update_xaxes(title_text = \"Bfield\",title_font = {\"size\": 25},title_standoff = 12, \n",
    "                    tickfont = dict(size=25))\n",
    "fig.update_yaxes(title_text = \"jcrit\",title_font = {\"size\": 25},title_standoff = 12, \n",
    "                    tickfont = dict(size=25) ,type=\"log\", exponentformat = 'e')\n",
    "fig.show()\n"
   ]
  },
  {
   "cell_type": "markdown",
   "metadata": {},
   "source": [
    "各向异性公式，0.1T ~ 1T, theta:0 ~ pi"
   ]
  },
  {
   "cell_type": "code",
   "execution_count": null,
   "metadata": {},
   "outputs": [],
   "source": [
    "jt =  np.zeros((10, 100))\n",
    "\n",
    "for i in range(10):\n",
    "    # j0 = Jcrit_theta((i+1)/10, 0) \n",
    "    for j in range(100):\n",
    "        Bx, By = (i+1)/10*np.sin(j*pi/99), (i+1)/10*np.cos(j*pi/99)\n",
    "        jt0 = Jcrit_theta(Bx, By)\n",
    "        jt = jt.at[i,j].set(jt0)\n",
    "\n",
    "print(jt)\n",
    "fig = go.Figure()\n",
    "for i in range(10):\n",
    "    fig.add_scatter(x = np.arange(0, pi, pi/100), y = jt[i], \n",
    "                    name = 'jcrit_theta_{}T'.format((i+1)/10), line = dict(width=5))\n",
    "fig.update_xaxes(title_text = \"theta\",title_font = {\"size\": 25},title_standoff = 12, \n",
    "                    tickfont = dict(size=25))\n",
    "fig.update_yaxes(title_text = \"jcrit\",title_font = {\"size\": 25},title_standoff = 12, \n",
    "                    tickfont = dict(size=25) , exponentformat = 'e')#,type=\"log\")\n",
    "fig.show()"
   ]
  },
  {
   "cell_type": "markdown",
   "metadata": {},
   "source": [
    "各向异性公式不同J0测试（应变公式温度变化）, 以B=0.01T作为j0的参考\n"
   ]
  },
  {
   "cell_type": "code",
   "execution_count": null,
   "metadata": {},
   "outputs": [],
   "source": [
    "js, jtx, jty = np.zeros((18, 100)), np.zeros((18, 100)), np.zeros((18, 100))\n",
    "strain = 0\n",
    "B0 = 0.02\n",
    "jc0 = 3e10\n",
    "\n",
    "for i in range(18):\n",
    "    jc = Jcrit_strain((i+1)*4, 0.02, strain)\n",
    "    for j in range(100):\n",
    "        js = js.at[i,j].set(Jcrit_strain((i+1)*4, (j+1)/100, 0.004))\n",
    "        Bx, By = (j+1)/100, 0\n",
    "        jtx0 = Jcrit_theta(Bx, By, B0, jc)\n",
    "        Bx, By = 0, (j+1)/100\n",
    "        jty0 = Jcrit_theta(Bx, By, B0, jc)\n",
    "        jtx = jtx.at[i, j].set(jtx0)\n",
    "        jty = jty.at[i, j].set(jty0)\n",
    "\n",
    "print(js)\n",
    "print(jtx)\n",
    "print(jty)\n",
    "color = ['red', 'blue', 'green', 'yellow']\n",
    "fig = go.Figure()\n",
    "for i in range(4):\n",
    "    fig.add_scatter(x = np.arange(0.01, 1.01, 1/100), y = js[i+4], \n",
    "                        name = 'jcrit_strain_{}K'.format((i+5)*4), line = dict(dash='longdash',width=5,color=color[i]))\n",
    "    fig.add_scatter(x = np.arange(0.01, 1.01, 1/100), y = jtx[i+4], \n",
    "                        name = 'jcrit_theta_X_{}K'.format((i+5)*4), line = dict(width=5,color=color[i]))\n",
    "    fig.add_scatter(x = np.arange(0.01, 1.01, 1/100), y = jty[i+4], \n",
    "                        name = 'jcrit_theta_y_{}K'.format((i+5)*4), line = dict(dash='dashdot',width=5,color=color[i]))\n",
    "fig.update_xaxes(title_text = \"Bfield\",title_font = {\"size\": 25},title_standoff = 12, \n",
    "                    tickfont = dict(size=25))\n",
    "fig.update_yaxes(title_text = \"jcrit\",title_font = {\"size\": 25},title_standoff = 12, \n",
    "                    tickfont = dict(size=25), exponentformat = 'e' )#,type=\"log\")\n",
    "fig.update_layout(legend=dict(x=0.8, y=1, font = dict(size=24)))\n",
    "fig.show()\n"
   ]
  },
  {
   "cell_type": "markdown",
   "metadata": {},
   "source": [
    "添加应变"
   ]
  }
 ],
 "metadata": {
  "kernelspec": {
   "display_name": "Python 3.8.10 64-bit",
   "language": "python",
   "name": "python3"
  },
  "language_info": {
   "name": "python",
   "version": "3.8.10"
  },
  "orig_nbformat": 4,
  "vscode": {
   "interpreter": {
    "hash": "916dbcbb3f70747c44a77c7bcd40155683ae19c65e1c03b4aa3499c5328201f1"
   }
  }
 },
 "nbformat": 4,
 "nbformat_minor": 2
}
