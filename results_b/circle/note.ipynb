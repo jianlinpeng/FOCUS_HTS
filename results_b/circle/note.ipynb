{
 "cells": [
  {
   "cell_type": "markdown",
   "metadata": {},
   "source": [
    "loss : 测试lossfunction 的结果  \n"
   ]
  },
  {
   "cell_type": "markdown",
   "metadata": {},
   "source": [
    "fa :  \n",
    "rc1000/rc65 : focusadd优化出的，较为符合w7x的线圈  \n",
    "rc_10 : focusadd优化出的loss<10的线圈"
   ]
  },
  {
   "cell_type": "markdown",
   "metadata": {},
   "source": [
    "c_a0 ： w7x线圈的形状  \n",
    "\n",
    "a1 ：loss: b; ss=1; 不闭合\n",
    "a2 : loss: b; ss=0;  闭合"
   ]
  }
 ],
 "metadata": {
  "kernelspec": {
   "display_name": "Python 3.8.10 64-bit",
   "language": "python",
   "name": "python3"
  },
  "language_info": {
   "name": "python",
   "version": "3.8.10"
  },
  "orig_nbformat": 4,
  "vscode": {
   "interpreter": {
    "hash": "916dbcbb3f70747c44a77c7bcd40155683ae19c65e1c03b4aa3499c5328201f1"
   }
  }
 },
 "nbformat": 4,
 "nbformat_minor": 2
}
